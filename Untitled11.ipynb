{
  "cells": [
    {
      "cell_type": "markdown",
      "metadata": {
        "id": "view-in-github",
        "colab_type": "text"
      },
      "source": [
        "<a href=\"https://colab.research.google.com/github/MilenaChekov/Chipseq_HSE22/blob/main/Untitled11.ipynb\" target=\"_parent\"><img src=\"https://colab.research.google.com/assets/colab-badge.svg\" alt=\"Open In Colab\"/></a>"
      ]
    },
    {
      "cell_type": "code",
      "execution_count": null,
      "metadata": {
        "id": "-0d94RhqQV2N"
      },
      "outputs": [],
      "source": [
        "!pip install -q condacolab\n",
        "import condacolab\n",
        "condacolab.install()"
      ]
    },
    {
      "cell_type": "code",
      "execution_count": null,
      "metadata": {
        "id": "WFmYzyKeRuup"
      },
      "outputs": [],
      "source": [
        "!conda install -c bioconda trimmomatic\n",
        "!conda install -c bioconda bowtie\n",
        "!conda install -c bioconda macs2"
      ]
    },
    {
      "cell_type": "code",
      "execution_count": null,
      "metadata": {
        "id": "xIb3gxcKJVC7"
      },
      "outputs": [],
      "source": [
        "!wget https://www.bioinformatics.babraham.ac.uk/projects/fastqc/fastqc_v0.11.9.zip\n",
        "!unzip fastqc_v0.11.9.zip\n",
        "!chmod a+x FastQC/fastqc"
      ]
    },
    {
      "cell_type": "code",
      "execution_count": 3,
      "metadata": {
        "id": "tEiO6YkdVwmu"
      },
      "outputs": [],
      "source": [
        "!cp drive/MyDrive/HSE_2022/UxuR_1.fastq .\n",
        "!cp drive/MyDrive/HSE_2022/UxuR_2.fastq .\n",
        "!cp drive/MyDrive/HSE_2022/UxuR_control.fastq ."
      ]
    },
    {
      "cell_type": "code",
      "execution_count": 4,
      "metadata": {
        "colab": {
          "base_uri": "https://localhost:8080/"
        },
        "id": "AABv_-uHpwYg",
        "outputId": "df4f0c28-72dd-42a9-e63a-1b993882c16c"
      },
      "outputs": [
        {
          "output_type": "stream",
          "name": "stdout",
          "text": [
            "Started analysis of UxuR_1.fastq\n",
            "Approx 5% complete for UxuR_1.fastq\n",
            "Approx 10% complete for UxuR_1.fastq\n",
            "Approx 15% complete for UxuR_1.fastq\n",
            "Approx 20% complete for UxuR_1.fastq\n",
            "Approx 25% complete for UxuR_1.fastq\n",
            "Approx 30% complete for UxuR_1.fastq\n",
            "Approx 35% complete for UxuR_1.fastq\n",
            "Approx 40% complete for UxuR_1.fastq\n",
            "Approx 45% complete for UxuR_1.fastq\n",
            "Approx 50% complete for UxuR_1.fastq\n",
            "Approx 55% complete for UxuR_1.fastq\n",
            "Approx 60% complete for UxuR_1.fastq\n",
            "Approx 65% complete for UxuR_1.fastq\n",
            "Approx 70% complete for UxuR_1.fastq\n",
            "Approx 75% complete for UxuR_1.fastq\n",
            "Approx 80% complete for UxuR_1.fastq\n",
            "Approx 85% complete for UxuR_1.fastq\n",
            "Approx 90% complete for UxuR_1.fastq\n",
            "Approx 95% complete for UxuR_1.fastq\n",
            "Analysis complete for UxuR_1.fastq\n"
          ]
        }
      ],
      "source": [
        "!FastQC/fastqc UxuR_1.fastq"
      ]
    },
    {
      "cell_type": "code",
      "execution_count": 6,
      "metadata": {
        "colab": {
          "base_uri": "https://localhost:8080/"
        },
        "id": "ET26H46HMoBb",
        "outputId": "b568cd90-1d67-4216-e7db-e139bd33fbb2"
      },
      "outputs": [
        {
          "output_type": "stream",
          "name": "stdout",
          "text": [
            "TrimmomaticSE: Started with arguments:\n",
            " -phred33 UxuR_1.fastq UxuR_1_trim.fastq ILLUMINACLIP:TruSeq3-SE.fa:2:30:10 LEADING:3 TRAILING:3 SLIDINGWINDOW:4:15 MINLEN:25\n",
            "Automatically using 2 threads\n",
            "Using Long Clipping Sequence: 'AGATCGGAAGAGCGTCGTGTAGGGAAAGAGTGTA'\n",
            "Using Long Clipping Sequence: 'AGATCGGAAGAGCACACGTCTGAACTCCAGTCAC'\n",
            "ILLUMINACLIP: Using 0 prefix pairs, 2 forward/reverse sequences, 0 forward only sequences, 0 reverse only sequences\n",
            "Input Reads: 58606277 Surviving: 52013108 (88.75%) Dropped: 6593169 (11.25%)\n",
            "TrimmomaticSE: Completed successfully\n"
          ]
        }
      ],
      "source": [
        "!trimmomatic SE -phred33 UxuR_1.fastq UxuR_1_trim.fastq ILLUMINACLIP:TruSeq3-SE.fa:2:30:10 LEADING:3 TRAILING:3 SLIDINGWINDOW:4:15 MINLEN:25"
      ]
    },
    {
      "cell_type": "code",
      "execution_count": 8,
      "metadata": {
        "colab": {
          "base_uri": "https://localhost:8080/"
        },
        "id": "P2mmyrHpRurN",
        "outputId": "4ed05220-207f-4a3b-ffad-f6598360d400"
      },
      "outputs": [
        {
          "output_type": "stream",
          "name": "stdout",
          "text": [
            "TrimmomaticSE: Started with arguments:\n",
            " -phred33 UxuR_2.fastq UxuR_2_trim.fastq ILLUMINACLIP:TruSeq3-SE.fa:2:30:10 LEADING:3 TRAILING:3 SLIDINGWINDOW:4:15 MINLEN:25\n",
            "Automatically using 2 threads\n",
            "Using Long Clipping Sequence: 'AGATCGGAAGAGCGTCGTGTAGGGAAAGAGTGTA'\n",
            "Using Long Clipping Sequence: 'AGATCGGAAGAGCACACGTCTGAACTCCAGTCAC'\n",
            "ILLUMINACLIP: Using 0 prefix pairs, 2 forward/reverse sequences, 0 forward only sequences, 0 reverse only sequences\n",
            "Input Reads: 23901482 Surviving: 23178083 (96.97%) Dropped: 723399 (3.03%)\n",
            "TrimmomaticSE: Completed successfully\n"
          ]
        }
      ],
      "source": [
        "!trimmomatic SE -phred33 UxuR_2.fastq UxuR_2_trim.fastq ILLUMINACLIP:TruSeq3-SE.fa:2:30:10 LEADING:3 TRAILING:3 SLIDINGWINDOW:4:15 MINLEN:25"
      ]
    },
    {
      "cell_type": "code",
      "execution_count": 28,
      "metadata": {
        "colab": {
          "base_uri": "https://localhost:8080/"
        },
        "id": "7S3So1RUsr2i",
        "outputId": "2933ae79-1551-4de9-a45f-4597225eee5c"
      },
      "outputs": [
        {
          "output_type": "stream",
          "name": "stdout",
          "text": [
            "TrimmomaticSE: Started with arguments:\n",
            " -phred33 UxuR_control.fastq UxuR_control_trim.fastq ILLUMINACLIP:TruSeq3-SE.fa:2:30:10 LEADING:3 TRAILING:3 SLIDINGWINDOW:4:15 MINLEN:25\n",
            "Automatically using 2 threads\n",
            "Using Long Clipping Sequence: 'AGATCGGAAGAGCGTCGTGTAGGGAAAGAGTGTA'\n",
            "Using Long Clipping Sequence: 'AGATCGGAAGAGCACACGTCTGAACTCCAGTCAC'\n",
            "ILLUMINACLIP: Using 0 prefix pairs, 2 forward/reverse sequences, 0 forward only sequences, 0 reverse only sequences\n",
            "Input Reads: 22987727 Surviving: 21988847 (95.65%) Dropped: 998880 (4.35%)\n",
            "TrimmomaticSE: Completed successfully\n"
          ]
        }
      ],
      "source": [
        "!trimmomatic SE -phred33 UxuR_control.fastq UxuR_control_trim.fastq ILLUMINACLIP:TruSeq3-SE.fa:2:30:10 LEADING:3 TRAILING:3 SLIDINGWINDOW:4:15 MINLEN:25"
      ]
    },
    {
      "cell_type": "code",
      "execution_count": 10,
      "metadata": {
        "colab": {
          "base_uri": "https://localhost:8080/"
        },
        "id": "ITIuBam8tLAx",
        "outputId": "db0150d1-0d88-441b-e08c-a091187d94d6"
      },
      "outputs": [
        {
          "output_type": "stream",
          "name": "stdout",
          "text": [
            "Started analysis of UxuR_1_trim.fastq\n",
            "Approx 5% complete for UxuR_1_trim.fastq\n",
            "Approx 10% complete for UxuR_1_trim.fastq\n",
            "Approx 15% complete for UxuR_1_trim.fastq\n",
            "Approx 20% complete for UxuR_1_trim.fastq\n",
            "Approx 25% complete for UxuR_1_trim.fastq\n",
            "Approx 30% complete for UxuR_1_trim.fastq\n",
            "Approx 35% complete for UxuR_1_trim.fastq\n",
            "Approx 40% complete for UxuR_1_trim.fastq\n",
            "Approx 45% complete for UxuR_1_trim.fastq\n",
            "Approx 50% complete for UxuR_1_trim.fastq\n",
            "Approx 55% complete for UxuR_1_trim.fastq\n",
            "Approx 60% complete for UxuR_1_trim.fastq\n",
            "Approx 65% complete for UxuR_1_trim.fastq\n",
            "Approx 70% complete for UxuR_1_trim.fastq\n",
            "Approx 75% complete for UxuR_1_trim.fastq\n",
            "Approx 80% complete for UxuR_1_trim.fastq\n",
            "Approx 85% complete for UxuR_1_trim.fastq\n",
            "Approx 90% complete for UxuR_1_trim.fastq\n",
            "Approx 95% complete for UxuR_1_trim.fastq\n",
            "Analysis complete for UxuR_1_trim.fastq\n"
          ]
        }
      ],
      "source": [
        "!FastQC/fastqc UxuR_1_trim.fastq"
      ]
    },
    {
      "cell_type": "code",
      "execution_count": 11,
      "metadata": {
        "colab": {
          "base_uri": "https://localhost:8080/"
        },
        "id": "rSXOXXsYtM7c",
        "outputId": "bf0953dc-0e16-445d-891b-510baea43afc"
      },
      "outputs": [
        {
          "output_type": "stream",
          "name": "stdout",
          "text": [
            "--2022-12-19 19:13:09--  https://ftp.ncbi.nlm.nih.gov/genomes/all/GCF/000/005/845/GCF_000005845.2_ASM584v2/GCF_000005845.2_ASM584v2_genomic.fna.gz\n",
            "Resolving ftp.ncbi.nlm.nih.gov (ftp.ncbi.nlm.nih.gov)... 130.14.250.11, 130.14.250.7, 2607:f220:41f:250::228, ...\n",
            "Connecting to ftp.ncbi.nlm.nih.gov (ftp.ncbi.nlm.nih.gov)|130.14.250.11|:443... connected.\n",
            "HTTP request sent, awaiting response... 200 OK\n",
            "Length: 1379902 (1.3M) [application/x-gzip]\n",
            "Saving to: ‘GCF_000005845.2_ASM584v2_genomic.fna.gz’\n",
            "\n",
            "GCF_000005845.2_ASM 100%[===================>]   1.32M  1.24MB/s    in 1.1s    \n",
            "\n",
            "2022-12-19 19:13:12 (1.24 MB/s) - ‘GCF_000005845.2_ASM584v2_genomic.fna.gz’ saved [1379902/1379902]\n",
            "\n"
          ]
        }
      ],
      "source": [
        "!wget https://ftp.ncbi.nlm.nih.gov/genomes/all/GCF/000/005/845/GCF_000005845.2_ASM584v2/GCF_000005845.2_ASM584v2_genomic.fna.gz\n",
        "!gzip -d GCF_000005845.2_ASM584v2_genomic.fna.gz"
      ]
    },
    {
      "cell_type": "code",
      "execution_count": 12,
      "metadata": {
        "colab": {
          "base_uri": "https://localhost:8080/"
        },
        "id": "6faHFFn7uMo4",
        "outputId": "c3eed0fe-e452-49ed-c7b3-259abbf54780"
      },
      "outputs": [
        {
          "output_type": "stream",
          "name": "stdout",
          "text": [
            "Settings:\n",
            "  Output files: \"index.*.ebwt\"\n",
            "  Line rate: 6 (line is 64 bytes)\n",
            "  Lines per side: 1 (side is 64 bytes)\n",
            "  Offset rate: 5 (one in 32)\n",
            "  FTable chars: 10\n",
            "  Strings: unpacked\n",
            "  Max bucket size: default\n",
            "  Max bucket size, sqrt multiplier: default\n",
            "  Max bucket size, len divisor: 4\n",
            "  Difference-cover sample period: 1024\n",
            "  Endianness: little\n",
            "  Actual local endianness: little\n",
            "  Sanity checking: disabled\n",
            "  Assertions: disabled\n",
            "  Random seed: 0\n",
            "  Sizeofs: void*:8, int:4, long:8, size_t:8\n",
            "Input files DNA, FASTA:\n",
            "  GCF_000005845.2_ASM584v2_genomic.fna\n",
            "Reading reference sizes\n",
            "  Time reading reference sizes: 00:00:00\n",
            "Calculating joined length\n",
            "Writing header\n",
            "Reserving space for joined string\n",
            "Joining reference sequences\n",
            "  Time to join reference sequences: 00:00:00\n",
            "bmax according to bmaxDivN setting: 1160413\n",
            "Using parameters --bmax 870310 --dcv 1024\n",
            "  Doing ahead-of-time memory usage test\n",
            "  Passed!  Constructing with these parameters: --bmax 870310 --dcv 1024\n",
            "Constructing suffix-array element generator\n",
            "Building DifferenceCoverSample\n",
            "  Building sPrime\n",
            "  Building sPrimeOrder\n",
            "  V-Sorting samples\n",
            "  V-Sorting samples time: 00:00:00\n",
            "  Allocating rank array\n",
            "  Ranking v-sort output\n",
            "  Ranking v-sort output time: 00:00:00\n",
            "  Invoking Larsson-Sadakane on ranks\n",
            "  Invoking Larsson-Sadakane on ranks time: 00:00:00\n",
            "  Sanity-checking and returning\n",
            "Building samples\n",
            "Reserving space for 12 sample suffixes\n",
            "Generating random suffixes\n",
            "QSorting 12 sample offsets, eliminating duplicates\n",
            "Multikey QSorting 12 samples\n",
            "  (Using difference cover)\n",
            "  Multikey QSorting samples time: 00:00:00\n",
            "QSorting sample offsets, eliminating duplicates time: 00:00:00\n",
            "Calculating bucket sizes\n",
            "Splitting and merging\n",
            "  Splitting and merging time: 00:00:00\n",
            "Split 1, merged 6; iterating...\n",
            "Splitting and merging\n",
            "  Splitting and merging time: 00:00:00\n",
            "Avg bucket size: 663092 (target: 870309)\n",
            "Converting suffix-array elements to index image\n",
            "Allocating ftab, absorbFtab\n",
            "Entering Ebwt loop\n",
            "Getting block 1 of 7\n",
            "  Reserving size (870310) for bucket 1\n",
            "  Calculating Z arrays for bucket 1\n",
            "  Entering block accumulator loop for bucket 1:\n",
            "  bucket 1: 10%\n",
            "  bucket 1: 20%\n",
            "  bucket 1: 30%\n",
            "  bucket 1: 40%\n",
            "  bucket 1: 50%\n",
            "  bucket 1: 60%\n",
            "  bucket 1: 70%\n",
            "  bucket 1: 80%\n",
            "  bucket 1: 90%\n",
            "  bucket 1: 100%\n",
            "  Sorting block of length 415161 for bucket 1\n",
            "  (Using difference cover)\n",
            "  Sorting block time: 00:00:01\n",
            "Returning block of 415162 for bucket 1\n",
            "Getting block 2 of 7\n",
            "  Reserving size (870310) for bucket 2\n",
            "  Calculating Z arrays for bucket 2\n",
            "  Entering block accumulator loop for bucket 2:\n",
            "  bucket 2: 10%\n",
            "  bucket 2: 20%\n",
            "  bucket 2: 30%\n",
            "  bucket 2: 40%\n",
            "  bucket 2: 50%\n",
            "  bucket 2: 60%\n",
            "  bucket 2: 70%\n",
            "  bucket 2: 80%\n",
            "  bucket 2: 90%\n",
            "  bucket 2: 100%\n",
            "  Sorting block of length 704345 for bucket 2\n",
            "  (Using difference cover)\n",
            "  Sorting block time: 00:00:00\n",
            "Returning block of 704346 for bucket 2\n",
            "Getting block 3 of 7\n",
            "  Reserving size (870310) for bucket 3\n",
            "  Calculating Z arrays for bucket 3\n",
            "  Entering block accumulator loop for bucket 3:\n",
            "  bucket 3: 10%\n",
            "  bucket 3: 20%\n",
            "  bucket 3: 30%\n",
            "  bucket 3: 40%\n",
            "  bucket 3: 50%\n",
            "  bucket 3: 60%\n",
            "  bucket 3: 70%\n",
            "  bucket 3: 80%\n",
            "  bucket 3: 90%\n",
            "  bucket 3: 100%\n",
            "  Sorting block of length 715232 for bucket 3\n",
            "  (Using difference cover)\n",
            "  Sorting block time: 00:00:00\n",
            "Returning block of 715233 for bucket 3\n",
            "Getting block 4 of 7\n",
            "  Reserving size (870310) for bucket 4\n",
            "  Calculating Z arrays for bucket 4\n",
            "  Entering block accumulator loop for bucket 4:\n",
            "  bucket 4: 10%\n",
            "  bucket 4: 20%\n",
            "  bucket 4: 30%\n",
            "  bucket 4: 40%\n",
            "  bucket 4: 50%\n",
            "  bucket 4: 60%\n",
            "  bucket 4: 70%\n",
            "  bucket 4: 80%\n",
            "  bucket 4: 90%\n",
            "  bucket 4: 100%\n",
            "  Sorting block of length 638686 for bucket 4\n",
            "  (Using difference cover)\n",
            "  Sorting block time: 00:00:00\n",
            "Returning block of 638687 for bucket 4\n",
            "Getting block 5 of 7\n",
            "  Reserving size (870310) for bucket 5\n",
            "  Calculating Z arrays for bucket 5\n",
            "  Entering block accumulator loop for bucket 5:\n",
            "  bucket 5: 10%\n",
            "  bucket 5: 20%\n",
            "  bucket 5: 30%\n",
            "  bucket 5: 40%\n",
            "  bucket 5: 50%\n",
            "  bucket 5: 60%\n",
            "  bucket 5: 70%\n",
            "  bucket 5: 80%\n",
            "  bucket 5: 90%\n",
            "  bucket 5: 100%\n",
            "  Sorting block of length 779115 for bucket 5\n",
            "  (Using difference cover)\n",
            "  Sorting block time: 00:00:01\n",
            "Returning block of 779116 for bucket 5\n",
            "Getting block 6 of 7\n",
            "  Reserving size (870310) for bucket 6\n",
            "  Calculating Z arrays for bucket 6\n",
            "  Entering block accumulator loop for bucket 6:\n",
            "  bucket 6: 10%\n",
            "  bucket 6: 20%\n",
            "  bucket 6: 30%\n",
            "  bucket 6: 40%\n",
            "  bucket 6: 50%\n",
            "  bucket 6: 60%\n",
            "  bucket 6: 70%\n",
            "  bucket 6: 80%\n",
            "  bucket 6: 90%\n",
            "  bucket 6: 100%\n",
            "  Sorting block of length 548871 for bucket 6\n",
            "  (Using difference cover)\n",
            "  Sorting block time: 00:00:00\n",
            "Returning block of 548872 for bucket 6\n",
            "Getting block 7 of 7\n",
            "  Reserving size (870310) for bucket 7\n",
            "  Calculating Z arrays for bucket 7\n",
            "  Entering block accumulator loop for bucket 7:\n",
            "  bucket 7: 10%\n",
            "  bucket 7: 20%\n",
            "  bucket 7: 30%\n",
            "  bucket 7: 40%\n",
            "  bucket 7: 50%\n",
            "  bucket 7: 60%\n",
            "  bucket 7: 70%\n",
            "  bucket 7: 80%\n",
            "  bucket 7: 90%\n",
            "  bucket 7: 100%\n",
            "  Sorting block of length 840236 for bucket 7\n",
            "  (Using difference cover)\n",
            "  Sorting block time: 00:00:00\n",
            "Returning block of 840237 for bucket 7\n",
            "Exited Ebwt loop\n",
            "fchr[A]: 0\n",
            "fchr[C]: 1142742\n",
            "fchr[G]: 2322833\n",
            "fchr[T]: 3500270\n",
            "fchr[$]: 4641652\n",
            "Exiting Ebwt::buildToDisk()\n",
            "Returning from initFromVector\n",
            "Wrote 5520744 bytes to primary EBWT file: index.1.ebwt\n",
            "Wrote 580212 bytes to secondary EBWT file: index.2.ebwt\n",
            "Re-opening _in1 and _in2 as input streams\n",
            "Returning from Ebwt constructor\n",
            "Headers:\n",
            "    len: 4641652\n",
            "    bwtLen: 4641653\n",
            "    sz: 1160413\n",
            "    bwtSz: 1160414\n",
            "    lineRate: 6\n",
            "    linesPerSide: 1\n",
            "    offRate: 5\n",
            "    offMask: 0xffffffe0\n",
            "    isaRate: -1\n",
            "    isaMask: 0xffffffff\n",
            "    ftabChars: 10\n",
            "    eftabLen: 20\n",
            "    eftabSz: 80\n",
            "    ftabLen: 1048577\n",
            "    ftabSz: 4194308\n",
            "    offsLen: 145052\n",
            "    offsSz: 580208\n",
            "    isaLen: 0\n",
            "    isaSz: 0\n",
            "    lineSz: 64\n",
            "    sideSz: 64\n",
            "    sideBwtSz: 56\n",
            "    sideBwtLen: 224\n",
            "    numSidePairs: 10361\n",
            "    numSides: 20722\n",
            "    numLines: 20722\n",
            "    ebwtTotLen: 1326208\n",
            "    ebwtTotSz: 1326208\n",
            "    reverse: 0\n",
            "Total time for call to driver() for forward index: 00:00:02\n",
            "Reading reference sizes\n",
            "  Time reading reference sizes: 00:00:00\n",
            "Calculating joined length\n",
            "Writing header\n",
            "Reserving space for joined string\n",
            "Joining reference sequences\n",
            "  Time to join reference sequences: 00:00:00\n",
            "bmax according to bmaxDivN setting: 1160413\n",
            "Using parameters --bmax 870310 --dcv 1024\n",
            "  Doing ahead-of-time memory usage test\n",
            "  Passed!  Constructing with these parameters: --bmax 870310 --dcv 1024\n",
            "Constructing suffix-array element generator\n",
            "Building DifferenceCoverSample\n",
            "  Building sPrime\n",
            "  Building sPrimeOrder\n",
            "  V-Sorting samples\n",
            "  V-Sorting samples time: 00:00:00\n",
            "  Allocating rank array\n",
            "  Ranking v-sort output\n",
            "  Ranking v-sort output time: 00:00:00\n",
            "  Invoking Larsson-Sadakane on ranks\n",
            "  Invoking Larsson-Sadakane on ranks time: 00:00:00\n",
            "  Sanity-checking and returning\n",
            "Building samples\n",
            "Reserving space for 12 sample suffixes\n",
            "Generating random suffixes\n",
            "QSorting 12 sample offsets, eliminating duplicates\n",
            "Multikey QSorting 12 samples\n",
            "  (Using difference cover)\n",
            "  Multikey QSorting samples time: 00:00:00\n",
            "QSorting sample offsets, eliminating duplicates time: 00:00:00\n",
            "Calculating bucket sizes\n",
            "Splitting and merging\n",
            "  Splitting and merging time: 00:00:00\n",
            "Split 2, merged 7; iterating...\n",
            "Splitting and merging\n",
            "  Splitting and merging time: 00:00:00\n",
            "Split 1, merged 1; iterating...\n",
            "Splitting and merging\n",
            "  Splitting and merging time: 00:00:00\n",
            "Avg bucket size: 580206 (target: 870309)\n",
            "Converting suffix-array elements to index image\n",
            "Allocating ftab, absorbFtab\n",
            "Entering Ebwt loop\n",
            "Getting block 1 of 8\n",
            "  Reserving size (870310) for bucket 1\n",
            "  Calculating Z arrays for bucket 1\n",
            "  Entering block accumulator loop for bucket 1:\n",
            "  bucket 1: 10%\n",
            "  bucket 1: 20%\n",
            "  bucket 1: 30%\n",
            "  bucket 1: 40%\n",
            "  bucket 1: 50%\n",
            "  bucket 1: 60%\n",
            "  bucket 1: 70%\n",
            "  bucket 1: 80%\n",
            "  bucket 1: 90%\n",
            "  bucket 1: 100%\n",
            "  Sorting block of length 696384 for bucket 1\n",
            "  (Using difference cover)\n",
            "  Sorting block time: 00:00:00\n",
            "Returning block of 696385 for bucket 1\n",
            "Getting block 2 of 8\n",
            "  Reserving size (870310) for bucket 2\n",
            "  Calculating Z arrays for bucket 2\n",
            "  Entering block accumulator loop for bucket 2:\n",
            "  bucket 2: 10%\n",
            "  bucket 2: 20%\n",
            "  bucket 2: 30%\n",
            "  bucket 2: 40%\n",
            "  bucket 2: 50%\n",
            "  bucket 2: 60%\n",
            "  bucket 2: 70%\n",
            "  bucket 2: 80%\n",
            "  bucket 2: 90%\n",
            "  bucket 2: 100%\n",
            "  Sorting block of length 333881 for bucket 2\n",
            "  (Using difference cover)\n",
            "  Sorting block time: 00:00:00\n",
            "Returning block of 333882 for bucket 2\n",
            "Getting block 3 of 8\n",
            "  Reserving size (870310) for bucket 3\n",
            "  Calculating Z arrays for bucket 3\n",
            "  Entering block accumulator loop for bucket 3:\n",
            "  bucket 3: 10%\n",
            "  bucket 3: 20%\n",
            "  bucket 3: 30%\n",
            "  bucket 3: 40%\n",
            "  bucket 3: 50%\n",
            "  bucket 3: 60%\n",
            "  bucket 3: 70%\n",
            "  bucket 3: 80%\n",
            "  bucket 3: 90%\n",
            "  bucket 3: 100%\n",
            "  Sorting block of length 565798 for bucket 3\n",
            "  (Using difference cover)\n",
            "  Sorting block time: 00:00:00\n",
            "Returning block of 565799 for bucket 3\n",
            "Getting block 4 of 8\n",
            "  Reserving size (870310) for bucket 4\n",
            "  Calculating Z arrays for bucket 4\n",
            "  Entering block accumulator loop for bucket 4:\n",
            "  bucket 4: 10%\n",
            "  bucket 4: 20%\n",
            "  bucket 4: 30%\n",
            "  bucket 4: 40%\n",
            "  bucket 4: 50%\n",
            "  bucket 4: 60%\n",
            "  bucket 4: 70%\n",
            "  bucket 4: 80%\n",
            "  bucket 4: 90%\n",
            "  bucket 4: 100%\n",
            "  Sorting block of length 312583 for bucket 4\n",
            "  (Using difference cover)\n",
            "  Sorting block time: 00:00:00\n",
            "Returning block of 312584 for bucket 4\n",
            "Getting block 5 of 8\n",
            "  Reserving size (870310) for bucket 5\n",
            "  Calculating Z arrays for bucket 5\n",
            "  Entering block accumulator loop for bucket 5:\n",
            "  bucket 5: 10%\n",
            "  bucket 5: 20%\n",
            "  bucket 5: 30%\n",
            "  bucket 5: 40%\n",
            "  bucket 5: 50%\n",
            "  bucket 5: 60%\n",
            "  bucket 5: 70%\n",
            "  bucket 5: 80%\n",
            "  bucket 5: 90%\n",
            "  bucket 5: 100%\n",
            "  Sorting block of length 783371 for bucket 5\n",
            "  (Using difference cover)\n",
            "  Sorting block time: 00:00:00\n",
            "Returning block of 783372 for bucket 5\n",
            "Getting block 6 of 8\n",
            "  Reserving size (870310) for bucket 6\n",
            "  Calculating Z arrays for bucket 6\n",
            "  Entering block accumulator loop for bucket 6:\n",
            "  bucket 6: 10%\n",
            "  bucket 6: 20%\n",
            "  bucket 6: 30%\n",
            "  bucket 6: 40%\n",
            "  bucket 6: 50%\n",
            "  bucket 6: 60%\n",
            "  bucket 6: 70%\n",
            "  bucket 6: 80%\n",
            "  bucket 6: 90%\n",
            "  bucket 6: 100%\n",
            "  Sorting block of length 823242 for bucket 6\n",
            "  (Using difference cover)\n",
            "  Sorting block time: 00:00:00\n",
            "Returning block of 823243 for bucket 6\n",
            "Getting block 7 of 8\n",
            "  Reserving size (870310) for bucket 7\n",
            "  Calculating Z arrays for bucket 7\n",
            "  Entering block accumulator loop for bucket 7:\n",
            "  bucket 7: 10%\n",
            "  bucket 7: 20%\n",
            "  bucket 7: 30%\n",
            "  bucket 7: 40%\n",
            "  bucket 7: 50%\n",
            "  bucket 7: 60%\n",
            "  bucket 7: 70%\n",
            "  bucket 7: 80%\n",
            "  bucket 7: 90%\n",
            "  bucket 7: 100%\n",
            "  Sorting block of length 609090 for bucket 7\n",
            "  (Using difference cover)\n",
            "  Sorting block time: 00:00:01\n",
            "Returning block of 609091 for bucket 7\n",
            "Getting block 8 of 8\n",
            "  Reserving size (870310) for bucket 8\n",
            "  Calculating Z arrays for bucket 8\n",
            "  Entering block accumulator loop for bucket 8:\n",
            "  bucket 8: 10%\n",
            "  bucket 8: 20%\n",
            "  bucket 8: 30%\n",
            "  bucket 8: 40%\n",
            "  bucket 8: 50%\n",
            "  bucket 8: 60%\n",
            "  bucket 8: 70%\n",
            "  bucket 8: 80%\n",
            "  bucket 8: 90%\n",
            "  bucket 8: 100%\n",
            "  Sorting block of length 517296 for bucket 8\n",
            "  (Using difference cover)\n",
            "  Sorting block time: 00:00:00\n",
            "Returning block of 517297 for bucket 8\n",
            "Exited Ebwt loop\n",
            "fchr[A]: 0\n",
            "fchr[C]: 1142742\n",
            "fchr[G]: 2322833\n",
            "fchr[T]: 3500270\n",
            "fchr[$]: 4641652\n",
            "Exiting Ebwt::buildToDisk()\n",
            "Returning from initFromVector\n",
            "Wrote 5520744 bytes to primary EBWT file: index.rev.1.ebwt\n",
            "Wrote 580212 bytes to secondary EBWT file: index.rev.2.ebwt\n",
            "Re-opening _in1 and _in2 as input streams\n",
            "Returning from Ebwt constructor\n",
            "Headers:\n",
            "    len: 4641652\n",
            "    bwtLen: 4641653\n",
            "    sz: 1160413\n",
            "    bwtSz: 1160414\n",
            "    lineRate: 6\n",
            "    linesPerSide: 1\n",
            "    offRate: 5\n",
            "    offMask: 0xffffffe0\n",
            "    isaRate: -1\n",
            "    isaMask: 0xffffffff\n",
            "    ftabChars: 10\n",
            "    eftabLen: 20\n",
            "    eftabSz: 80\n",
            "    ftabLen: 1048577\n",
            "    ftabSz: 4194308\n",
            "    offsLen: 145052\n",
            "    offsSz: 580208\n",
            "    isaLen: 0\n",
            "    isaSz: 0\n",
            "    lineSz: 64\n",
            "    sideSz: 64\n",
            "    sideBwtSz: 56\n",
            "    sideBwtLen: 224\n",
            "    numSidePairs: 10361\n",
            "    numSides: 20722\n",
            "    numLines: 20722\n",
            "    ebwtTotLen: 1326208\n",
            "    ebwtTotSz: 1326208\n",
            "    reverse: 0\n",
            "Total time for backward call to driver() for mirror index: 00:00:03\n",
            "# reads processed: 52013108\n",
            "# reads with at least one alignment: 37619220 (72.33%)\n",
            "# reads that failed to align: 14393888 (27.67%)\n",
            "Reported 37619220 alignments\n",
            "# reads processed: 22987727\n",
            "# reads with at least one alignment: 15358856 (66.81%)\n",
            "# reads that failed to align: 7628871 (33.19%)\n",
            "Reported 15358856 alignments\n",
            "# reads processed: 23178083\n",
            "# reads with at least one alignment: 20223410 (87.25%)\n",
            "# reads that failed to align: 2954673 (12.75%)\n",
            "Reported 20223410 alignments\n"
          ]
        }
      ],
      "source": [
        "!mkdir bowtie_res\n",
        "!bowtie-build GCF_000005845.2_ASM584v2_genomic.fna index\n",
        "!bowtie  -p 2 \\\n",
        "          -x index \\\n",
        "          -q UxuR_1_trim.fastq \\\n",
        "          -S bowtie_res/res_UxuR_1.sam\n",
        "!bowtie  -p 2 \\\n",
        "          -x index \\\n",
        "          -q UxuR_control.fastq \\\n",
        "          -S bowtie_res/res_UxuR_control.sam\n",
        "!bowtie  -p 2 \\\n",
        "          -x index \\\n",
        "          -q UxuR_2_trim.fastq \\\n",
        "          -S bowtie_res/res_UxuR_2.sam"
      ]
    },
    {
      "cell_type": "code",
      "execution_count": 13,
      "metadata": {
        "colab": {
          "base_uri": "https://localhost:8080/"
        },
        "id": "C5Jd6Yb_us7k",
        "outputId": "b054ef11-70f0-456a-b70e-81b75e85ead4"
      },
      "outputs": [
        {
          "output_type": "stream",
          "name": "stdout",
          "text": [
            "Collecting package metadata (current_repodata.json): - \b\b\\ \b\b| \b\b/ \b\b- \b\b\\ \b\b| \b\b/ \b\b- \b\b\\ \b\b| \b\b/ \b\b- \b\b\\ \b\b| \b\b/ \b\b- \b\b\\ \b\b| \b\b/ \b\b- \b\b\\ \b\b| \b\b/ \b\b- \b\b\\ \b\b| \b\b/ \b\b- \b\b\\ \b\b| \b\b/ \b\b- \b\b\\ \b\b| \b\b/ \b\b- \b\b\\ \b\b| \b\b/ \b\b- \b\b\\ \b\b| \b\b/ \b\b- \b\b\\ \b\b| \b\b/ \b\b- \b\b\\ \b\b| \b\b/ \b\b- \b\b\\ \b\b| \b\b/ \b\b- \b\b\\ \b\b| \b\b/ \b\b- \b\b\\ \b\b| \b\b/ \b\b- \b\b\\ \b\b| \b\b/ \b\b- \b\b\\ \b\b| \b\b/ \b\b- \b\b\\ \b\b| \b\b/ \b\b- \b\b\\ \b\b| \b\b/ \b\b- \b\b\\ \b\b| \b\b/ \b\b- \b\b\\ \b\b| \b\b/ \b\b- \b\b\\ \b\b| \b\b/ \b\b- \b\b\\ \b\b| \b\b/ \b\b- \b\b\\ \b\b| \b\b/ \b\b- \b\b\\ \b\b| \b\b/ \b\b- \b\b\\ \b\b| \b\b/ \b\b- \b\b\\ \b\b| \b\b/ \b\b- \b\b\\ \b\b| \b\b/ \b\b- \b\b\\ \b\b| \b\b/ \b\b- \b\b\\ \b\b| \b\b/ \b\b- \b\b\\ \b\b| \b\b/ \b\b- \b\b\\ \b\b| \b\b/ \b\b- \b\b\\ \b\b| \b\b/ \b\b- \b\b\\ \b\b| \b\b/ \b\b- \b\b\\ \b\b| \b\b/ \b\b- \b\b\\ \b\b| \b\b/ \b\b- \b\b\\ \b\b| \b\b/ \b\b- \b\bdone\n",
            "Solving environment: | \b\b/ \b\b- \b\b\\ \b\b| \b\b/ \b\b- \b\b\\ \b\b| \b\b/ \b\b- \b\b\\ \b\b| \b\b/ \b\b- \b\b\\ \b\b| \b\b/ \b\b- \b\b\\ \b\b| \b\b/ \b\b- \b\b\\ \b\b| \b\b/ \b\b- \b\b\\ \b\b| \b\b/ \b\b- \b\b\\ \b\b| \b\b/ \b\b- \b\b\\ \b\bdone\n",
            "\n",
            "## Package Plan ##\n",
            "\n",
            "  environment location: /usr/local\n",
            "\n",
            "  added / updated specs:\n",
            "    - samtools\n",
            "\n",
            "\n",
            "The following packages will be downloaded:\n",
            "\n",
            "    package                    |            build\n",
            "    ---------------------------|-----------------\n",
            "    samtools-1.6               |       h3f2fef4_8         499 KB  bioconda\n",
            "    ------------------------------------------------------------\n",
            "                                           Total:         499 KB\n",
            "\n",
            "The following NEW packages will be INSTALLED:\n",
            "\n",
            "  samtools           bioconda/linux-64::samtools-1.6-h3f2fef4_8 \n",
            "\n",
            "\n",
            "\n",
            "Downloading and Extracting Packages\n",
            "                                                                        \n",
            "Preparing transaction: / \b\bdone\n",
            "Verifying transaction: \\ \b\bdone\n",
            "Executing transaction: / \b\bdone\n"
          ]
        }
      ],
      "source": [
        "!conda install -c bioconda samtools"
      ]
    },
    {
      "cell_type": "code",
      "execution_count": 14,
      "metadata": {
        "id": "yMj3_nbRut0-"
      },
      "outputs": [],
      "source": [
        "!samtools view -S -b bowtie_res/res_UxuR_1.sam > bowtie_res/res_UxuR_1.bam\n",
        "!samtools view -S -b bowtie_res/res_UxuR_2.sam > bowtie_res/res_UxuR_2.bam\n",
        "!samtools view -S -b bowtie_res/res_UxuR_control.sam > bowtie_res/res_UxuR_control.bam"
      ]
    },
    {
      "cell_type": "code",
      "execution_count": 109,
      "metadata": {
        "colab": {
          "base_uri": "https://localhost:8080/"
        },
        "id": "lkLNpeMxor0M",
        "outputId": "e46401c7-92c5-4b9c-a4a8-76f001d03672"
      },
      "outputs": [
        {
          "output_type": "stream",
          "name": "stdout",
          "text": [
            "mkdir: cannot create directory ‘macs2’: File exists\n",
            "INFO  @ Mon, 19 Dec 2022 22:17:43: \n",
            "# Command line: callpeak -t bowtie_res/res_UxuR_1.bam -c bowtie_res/res_UxuR_control.bam -f BAM -n res_UxuR_1 -p 0.09 --outdir macs2 --nomodel --extsize 200\n",
            "# ARGUMENTS LIST:\n",
            "# name = res_UxuR_1\n",
            "# format = BAM\n",
            "# ChIP-seq file = ['bowtie_res/res_UxuR_1.bam']\n",
            "# control file = ['bowtie_res/res_UxuR_control.bam']\n",
            "# effective genome size = 2.70e+09\n",
            "# band width = 300\n",
            "# model fold = [5, 50]\n",
            "# pvalue cutoff = 9.00e-02\n",
            "# qvalue will not be calculated and reported as -1 in the final output.\n",
            "# The maximum gap between significant sites is assigned as the read length/tag size.\n",
            "# The minimum length of peaks is assigned as the predicted fragment length \"d\".\n",
            "# Larger dataset will be scaled towards smaller dataset.\n",
            "# Range for calculating regional lambda is: 1000 bps and 10000 bps\n",
            "# Broad region calling is off\n",
            "# Paired-End mode is off\n",
            " \n",
            "INFO  @ Mon, 19 Dec 2022 22:17:43: #1 read tag files... \n",
            "INFO  @ Mon, 19 Dec 2022 22:17:43: #1 read treatment tags... \n",
            "INFO  @ Mon, 19 Dec 2022 22:17:46:  1000000 \n",
            "INFO  @ Mon, 19 Dec 2022 22:17:48:  2000000 \n",
            "INFO  @ Mon, 19 Dec 2022 22:17:51:  3000000 \n",
            "INFO  @ Mon, 19 Dec 2022 22:17:54:  4000000 \n",
            "INFO  @ Mon, 19 Dec 2022 22:17:57:  5000000 \n",
            "INFO  @ Mon, 19 Dec 2022 22:18:00:  6000000 \n",
            "INFO  @ Mon, 19 Dec 2022 22:18:03:  7000000 \n",
            "INFO  @ Mon, 19 Dec 2022 22:18:05:  8000000 \n",
            "INFO  @ Mon, 19 Dec 2022 22:18:07:  9000000 \n",
            "INFO  @ Mon, 19 Dec 2022 22:18:10:  10000000 \n",
            "INFO  @ Mon, 19 Dec 2022 22:18:13:  11000000 \n",
            "INFO  @ Mon, 19 Dec 2022 22:18:16:  12000000 \n",
            "INFO  @ Mon, 19 Dec 2022 22:18:18:  13000000 \n",
            "INFO  @ Mon, 19 Dec 2022 22:18:21:  14000000 \n",
            "INFO  @ Mon, 19 Dec 2022 22:18:23:  15000000 \n",
            "INFO  @ Mon, 19 Dec 2022 22:18:26:  16000000 \n",
            "INFO  @ Mon, 19 Dec 2022 22:18:28:  17000000 \n",
            "INFO  @ Mon, 19 Dec 2022 22:18:31:  18000000 \n",
            "INFO  @ Mon, 19 Dec 2022 22:18:34:  19000000 \n",
            "INFO  @ Mon, 19 Dec 2022 22:18:36:  20000000 \n",
            "INFO  @ Mon, 19 Dec 2022 22:18:39:  21000000 \n",
            "INFO  @ Mon, 19 Dec 2022 22:18:41:  22000000 \n",
            "INFO  @ Mon, 19 Dec 2022 22:18:44:  23000000 \n",
            "INFO  @ Mon, 19 Dec 2022 22:18:47:  24000000 \n",
            "INFO  @ Mon, 19 Dec 2022 22:18:50:  25000000 \n",
            "INFO  @ Mon, 19 Dec 2022 22:18:52:  26000000 \n",
            "INFO  @ Mon, 19 Dec 2022 22:18:55:  27000000 \n",
            "INFO  @ Mon, 19 Dec 2022 22:18:57:  28000000 \n",
            "INFO  @ Mon, 19 Dec 2022 22:19:00:  29000000 \n",
            "INFO  @ Mon, 19 Dec 2022 22:19:02:  30000000 \n",
            "INFO  @ Mon, 19 Dec 2022 22:19:05:  31000000 \n",
            "INFO  @ Mon, 19 Dec 2022 22:19:08:  32000000 \n",
            "INFO  @ Mon, 19 Dec 2022 22:19:10:  33000000 \n",
            "INFO  @ Mon, 19 Dec 2022 22:19:13:  34000000 \n",
            "INFO  @ Mon, 19 Dec 2022 22:19:16:  35000000 \n",
            "INFO  @ Mon, 19 Dec 2022 22:19:18:  36000000 \n",
            "INFO  @ Mon, 19 Dec 2022 22:19:21:  37000000 \n",
            "INFO  @ Mon, 19 Dec 2022 22:19:23: 37619220 reads have been read. \n",
            "INFO  @ Mon, 19 Dec 2022 22:19:27: #1.2 read input tags... \n",
            "INFO  @ Mon, 19 Dec 2022 22:19:30:  1000000 \n",
            "INFO  @ Mon, 19 Dec 2022 22:19:33:  2000000 \n",
            "INFO  @ Mon, 19 Dec 2022 22:19:35:  3000000 \n",
            "INFO  @ Mon, 19 Dec 2022 22:19:39:  4000000 \n",
            "INFO  @ Mon, 19 Dec 2022 22:19:44:  5000000 \n",
            "INFO  @ Mon, 19 Dec 2022 22:19:48:  6000000 \n",
            "INFO  @ Mon, 19 Dec 2022 22:19:50:  7000000 \n",
            "INFO  @ Mon, 19 Dec 2022 22:19:53:  8000000 \n",
            "INFO  @ Mon, 19 Dec 2022 22:19:56:  9000000 \n",
            "INFO  @ Mon, 19 Dec 2022 22:19:59:  10000000 \n",
            "INFO  @ Mon, 19 Dec 2022 22:20:01:  11000000 \n",
            "INFO  @ Mon, 19 Dec 2022 22:20:04:  12000000 \n",
            "INFO  @ Mon, 19 Dec 2022 22:20:07:  13000000 \n",
            "INFO  @ Mon, 19 Dec 2022 22:20:10:  14000000 \n",
            "INFO  @ Mon, 19 Dec 2022 22:20:12:  15000000 \n",
            "INFO  @ Mon, 19 Dec 2022 22:20:13: 15358856 reads have been read. \n",
            "INFO  @ Mon, 19 Dec 2022 22:20:15: #1 tag size is determined as 50 bps \n",
            "INFO  @ Mon, 19 Dec 2022 22:20:15: #1 tag size = 50.0 \n",
            "INFO  @ Mon, 19 Dec 2022 22:20:15: #1  total tags in treatment: 37619220 \n",
            "INFO  @ Mon, 19 Dec 2022 22:20:15: #1 user defined the maximum tags... \n",
            "INFO  @ Mon, 19 Dec 2022 22:20:15: #1 filter out redundant tags at the same location and the same strand by allowing at most 1 tag(s) \n",
            "INFO  @ Mon, 19 Dec 2022 22:20:15: #1  tags after filtering in treatment: 8598692 \n",
            "INFO  @ Mon, 19 Dec 2022 22:20:15: #1  Redundant rate of treatment: 0.77 \n",
            "INFO  @ Mon, 19 Dec 2022 22:20:15: #1  total tags in control: 15358856 \n",
            "INFO  @ Mon, 19 Dec 2022 22:20:15: #1 user defined the maximum tags... \n",
            "INFO  @ Mon, 19 Dec 2022 22:20:15: #1 filter out redundant tags at the same location and the same strand by allowing at most 1 tag(s) \n",
            "INFO  @ Mon, 19 Dec 2022 22:20:15: #1  tags after filtering in control: 6894406 \n",
            "INFO  @ Mon, 19 Dec 2022 22:20:15: #1  Redundant rate of control: 0.55 \n",
            "INFO  @ Mon, 19 Dec 2022 22:20:15: #1 finished! \n",
            "INFO  @ Mon, 19 Dec 2022 22:20:15: #2 Build Peak Model... \n",
            "INFO  @ Mon, 19 Dec 2022 22:20:15: #2 Skipped... \n",
            "INFO  @ Mon, 19 Dec 2022 22:20:15: #2 Use 200 as fragment length \n",
            "INFO  @ Mon, 19 Dec 2022 22:20:15: #3 Call peaks... \n",
            "INFO  @ Mon, 19 Dec 2022 22:20:15: #3 Call peaks with given -log10pvalue cutoff: 1.04576 ... \n",
            "INFO  @ Mon, 19 Dec 2022 22:20:15: #3 Pre-compute pvalue-qvalue table... \n",
            "INFO  @ Mon, 19 Dec 2022 22:20:34: #3 Call peaks for each chromosome... \n",
            "INFO  @ Mon, 19 Dec 2022 22:20:35: #4 Write output xls file... macs2/res_UxuR_1_peaks.xls \n",
            "INFO  @ Mon, 19 Dec 2022 22:20:35: #4 Write peak in narrowPeak format file... macs2/res_UxuR_1_peaks.narrowPeak \n",
            "INFO  @ Mon, 19 Dec 2022 22:20:35: #4 Write summits bed file... macs2/res_UxuR_1_summits.bed \n",
            "INFO  @ Mon, 19 Dec 2022 22:20:35: Done! \n"
          ]
        }
      ],
      "source": [
        "!mkdir macs2\n",
        "!macs2 callpeak -t bowtie_res/res_UxuR_1.bam \\\n",
        "    -c bowtie_res/res_UxuR_control.bam \\\n",
        "    -f BAM \\\n",
        "    -n res_UxuR_1 \\\n",
        "    -p 0.09 \\\n",
        "\t  --outdir macs2 --nomodel --extsize 200"
      ]
    },
    {
      "cell_type": "code",
      "execution_count": 80,
      "metadata": {
        "id": "xgN_2COm4FkN",
        "colab": {
          "base_uri": "https://localhost:8080/"
        },
        "outputId": "c22ba91f-b337-40a9-f2a1-251981cd5477"
      },
      "outputs": [
        {
          "output_type": "stream",
          "name": "stdout",
          "text": [
            "NC_000913.3\t313142\t313758\tres_UxuR_1_peak_1\t22\t.\t1.13816\t2.26188\t0\t243\n",
            "NC_000913.3\t570940\t571261\tres_UxuR_1_peak_2\t20\t.\t1.13481\t2.03073\t0\t217\n",
            "NC_000913.3\t579577\t579997\tres_UxuR_1_peak_3\t32\t.\t1.19541\t3.29711\t0\t194\n",
            "NC_000913.3\t1121725\t1122080\tres_UxuR_1_peak_4\t13\t.\t1.09145\t1.36077\t0\t73\n",
            "NC_000913.3\t1215784\t1216143\tres_UxuR_1_peak_5\t26\t.\t1.17234\t2.61377\t0\t128\n",
            "NC_000913.3\t1225629\t1226013\tres_UxuR_1_peak_6\t14\t.\t1.09498\t1.42493\t0\t53\n",
            "NC_000913.3\t1298784\t1299117\tres_UxuR_1_peak_7\t20\t.\t1.12878\t2.00049\t0\t166\n",
            "NC_000913.3\t1307930\t1308394\tres_UxuR_1_peak_8\t13\t.\t1.09127\t1.35434\t0\t123\n",
            "NC_000913.3\t1435055\t1435425\tres_UxuR_1_peak_9\t14\t.\t1.09952\t1.44416\t0\t203\n",
            "NC_000913.3\t1437304\t1437715\tres_UxuR_1_peak_10\t16\t.\t1.10987\t1.6718\t0\t182\n"
          ]
        }
      ],
      "source": [
        "!head macs2/res_UxuR_1_peaks.narrowPeak "
      ]
    },
    {
      "cell_type": "code",
      "execution_count": 104,
      "metadata": {
        "colab": {
          "base_uri": "https://localhost:8080/"
        },
        "id": "620kGLkhnpPA",
        "outputId": "34313122-3fac-44d8-dd04-c1bff859d59d"
      },
      "outputs": [
        {
          "output_type": "stream",
          "name": "stdout",
          "text": [
            "INFO  @ Mon, 19 Dec 2022 22:09:22: \n",
            "# Command line: callpeak -t bowtie_res/res_UxuR_2.bam -c bowtie_res/res_UxuR_control.bam -f BAM -n res_UxuR_2 -p 0.05 --outdir macs2 --nomodel --extsize 200\n",
            "# ARGUMENTS LIST:\n",
            "# name = res_UxuR_2\n",
            "# format = BAM\n",
            "# ChIP-seq file = ['bowtie_res/res_UxuR_2.bam']\n",
            "# control file = ['bowtie_res/res_UxuR_control.bam']\n",
            "# effective genome size = 2.70e+09\n",
            "# band width = 300\n",
            "# model fold = [5, 50]\n",
            "# pvalue cutoff = 5.00e-02\n",
            "# qvalue will not be calculated and reported as -1 in the final output.\n",
            "# The maximum gap between significant sites is assigned as the read length/tag size.\n",
            "# The minimum length of peaks is assigned as the predicted fragment length \"d\".\n",
            "# Larger dataset will be scaled towards smaller dataset.\n",
            "# Range for calculating regional lambda is: 1000 bps and 10000 bps\n",
            "# Broad region calling is off\n",
            "# Paired-End mode is off\n",
            " \n",
            "INFO  @ Mon, 19 Dec 2022 22:09:22: #1 read tag files... \n",
            "INFO  @ Mon, 19 Dec 2022 22:09:22: #1 read treatment tags... \n",
            "INFO  @ Mon, 19 Dec 2022 22:09:25:  1000000 \n",
            "INFO  @ Mon, 19 Dec 2022 22:09:27:  2000000 \n",
            "INFO  @ Mon, 19 Dec 2022 22:09:29:  3000000 \n",
            "INFO  @ Mon, 19 Dec 2022 22:09:32:  4000000 \n",
            "INFO  @ Mon, 19 Dec 2022 22:09:34:  5000000 \n",
            "INFO  @ Mon, 19 Dec 2022 22:09:37:  6000000 \n",
            "INFO  @ Mon, 19 Dec 2022 22:09:39:  7000000 \n",
            "INFO  @ Mon, 19 Dec 2022 22:09:42:  8000000 \n",
            "INFO  @ Mon, 19 Dec 2022 22:09:44:  9000000 \n",
            "INFO  @ Mon, 19 Dec 2022 22:09:47:  10000000 \n",
            "INFO  @ Mon, 19 Dec 2022 22:09:49:  11000000 \n",
            "INFO  @ Mon, 19 Dec 2022 22:09:51:  12000000 \n",
            "INFO  @ Mon, 19 Dec 2022 22:09:54:  13000000 \n",
            "INFO  @ Mon, 19 Dec 2022 22:09:56:  14000000 \n",
            "INFO  @ Mon, 19 Dec 2022 22:09:59:  15000000 \n",
            "INFO  @ Mon, 19 Dec 2022 22:10:01:  16000000 \n",
            "INFO  @ Mon, 19 Dec 2022 22:10:03:  17000000 \n",
            "INFO  @ Mon, 19 Dec 2022 22:10:06:  18000000 \n",
            "INFO  @ Mon, 19 Dec 2022 22:10:08:  19000000 \n",
            "INFO  @ Mon, 19 Dec 2022 22:10:11:  20000000 \n",
            "INFO  @ Mon, 19 Dec 2022 22:10:11: 20223410 reads have been read. \n",
            "INFO  @ Mon, 19 Dec 2022 22:10:13: #1.2 read input tags... \n",
            "INFO  @ Mon, 19 Dec 2022 22:10:16:  1000000 \n",
            "INFO  @ Mon, 19 Dec 2022 22:10:19:  2000000 \n",
            "INFO  @ Mon, 19 Dec 2022 22:10:22:  3000000 \n",
            "INFO  @ Mon, 19 Dec 2022 22:10:25:  4000000 \n",
            "INFO  @ Mon, 19 Dec 2022 22:10:28:  5000000 \n",
            "INFO  @ Mon, 19 Dec 2022 22:10:30:  6000000 \n",
            "INFO  @ Mon, 19 Dec 2022 22:10:33:  7000000 \n",
            "INFO  @ Mon, 19 Dec 2022 22:10:36:  8000000 \n",
            "INFO  @ Mon, 19 Dec 2022 22:10:39:  9000000 \n",
            "INFO  @ Mon, 19 Dec 2022 22:10:41:  10000000 \n",
            "INFO  @ Mon, 19 Dec 2022 22:10:44:  11000000 \n",
            "INFO  @ Mon, 19 Dec 2022 22:10:47:  12000000 \n",
            "INFO  @ Mon, 19 Dec 2022 22:10:50:  13000000 \n",
            "INFO  @ Mon, 19 Dec 2022 22:10:52:  14000000 \n",
            "INFO  @ Mon, 19 Dec 2022 22:10:55:  15000000 \n",
            "INFO  @ Mon, 19 Dec 2022 22:10:56: 15358856 reads have been read. \n",
            "INFO  @ Mon, 19 Dec 2022 22:10:58: #1 tag size is determined as 48 bps \n",
            "INFO  @ Mon, 19 Dec 2022 22:10:58: #1 tag size = 48.0 \n",
            "INFO  @ Mon, 19 Dec 2022 22:10:58: #1  total tags in treatment: 20223410 \n",
            "INFO  @ Mon, 19 Dec 2022 22:10:58: #1 user defined the maximum tags... \n",
            "INFO  @ Mon, 19 Dec 2022 22:10:58: #1 filter out redundant tags at the same location and the same strand by allowing at most 1 tag(s) \n",
            "INFO  @ Mon, 19 Dec 2022 22:10:58: #1  tags after filtering in treatment: 7562735 \n",
            "INFO  @ Mon, 19 Dec 2022 22:10:58: #1  Redundant rate of treatment: 0.63 \n",
            "INFO  @ Mon, 19 Dec 2022 22:10:58: #1  total tags in control: 15358856 \n",
            "INFO  @ Mon, 19 Dec 2022 22:10:58: #1 user defined the maximum tags... \n",
            "INFO  @ Mon, 19 Dec 2022 22:10:58: #1 filter out redundant tags at the same location and the same strand by allowing at most 1 tag(s) \n",
            "INFO  @ Mon, 19 Dec 2022 22:10:58: #1  tags after filtering in control: 6894406 \n",
            "INFO  @ Mon, 19 Dec 2022 22:10:58: #1  Redundant rate of control: 0.55 \n",
            "INFO  @ Mon, 19 Dec 2022 22:10:58: #1 finished! \n",
            "INFO  @ Mon, 19 Dec 2022 22:10:58: #2 Build Peak Model... \n",
            "INFO  @ Mon, 19 Dec 2022 22:10:58: #2 Skipped... \n",
            "INFO  @ Mon, 19 Dec 2022 22:10:58: #2 Use 200 as fragment length \n",
            "INFO  @ Mon, 19 Dec 2022 22:10:58: #3 Call peaks... \n",
            "INFO  @ Mon, 19 Dec 2022 22:10:58: #3 Call peaks with given -log10pvalue cutoff: 1.30103 ... \n",
            "INFO  @ Mon, 19 Dec 2022 22:10:58: #3 Pre-compute pvalue-qvalue table... \n",
            "INFO  @ Mon, 19 Dec 2022 22:11:18: #3 Call peaks for each chromosome... \n",
            "INFO  @ Mon, 19 Dec 2022 22:11:20: #4 Write output xls file... macs2/res_UxuR_2_peaks.xls \n",
            "INFO  @ Mon, 19 Dec 2022 22:11:20: #4 Write peak in narrowPeak format file... macs2/res_UxuR_2_peaks.narrowPeak \n",
            "INFO  @ Mon, 19 Dec 2022 22:11:20: #4 Write summits bed file... macs2/res_UxuR_2_summits.bed \n",
            "INFO  @ Mon, 19 Dec 2022 22:11:20: Done! \n"
          ]
        }
      ],
      "source": [
        "!macs2 callpeak -t bowtie_res/res_UxuR_2.bam \\\n",
        "    -c bowtie_res/res_UxuR_control.bam \\\n",
        "    -f BAM \\\n",
        "    -n res_UxuR_2 \\\n",
        "    -p 0.09 \\\n",
        "\t  --outdir macs2 --nomodel --extsize 150"
      ]
    },
    {
      "cell_type": "code",
      "source": [
        "!head macs2/res_UxuR_2_peaks.narrowPeak "
      ],
      "metadata": {
        "colab": {
          "base_uri": "https://localhost:8080/"
        },
        "id": "sGEwYkLPSqCH",
        "outputId": "ef6734b5-46a6-46fa-8cae-04918cb18dc6"
      },
      "execution_count": 52,
      "outputs": [
        {
          "output_type": "stream",
          "name": "stdout",
          "text": [
            "NC_000913.3\t236899\t237007\tres_UxuR_2_peak_1\t18\t.\t1.18073\t1.8039\t0\t59\n",
            "NC_000913.3\t313044\t313605\tres_UxuR_2_peak_2\t35\t.\t1.30577\t3.57838\t0\t261\n",
            "NC_000913.3\t568351\t568511\tres_UxuR_2_peak_3\t19\t.\t1.20651\t1.90317\t0\t94\n",
            "NC_000913.3\t571017\t571201\tres_UxuR_2_peak_4\t13\t.\t1.15259\t1.34805\t0\t179\n",
            "NC_000913.3\t571965\t572100\tres_UxuR_2_peak_5\t23\t.\t1.24592\t2.36487\t0\t88\n",
            "NC_000913.3\t575877\t575988\tres_UxuR_2_peak_6\t22\t.\t1.22502\t2.25574\t0\t55\n",
            "NC_000913.3\t576618\t576758\tres_UxuR_2_peak_7\t21\t.\t1.22473\t2.14296\t0\t77\n",
            "NC_000913.3\t578674\t578827\tres_UxuR_2_peak_8\t14\t.\t1.15604\t1.42006\t0\t1\n",
            "NC_000913.3\t579636\t579862\tres_UxuR_2_peak_9\t21\t.\t1.23144\t2.14238\t0\t88\n",
            "NC_000913.3\t1215808\t1215950\tres_UxuR_2_peak_10\t16\t.\t1.18745\t1.60407\t0\t12\n"
          ]
        }
      ]
    },
    {
      "cell_type": "code",
      "execution_count": 53,
      "metadata": {
        "id": "0JslKQrdMJbn",
        "colab": {
          "base_uri": "https://localhost:8080/"
        },
        "outputId": "aef8a867-5500-4f32-ee19-87274d59bbcb"
      },
      "outputs": [
        {
          "output_type": "stream",
          "name": "stdout",
          "text": [
            "Collecting package metadata (current_repodata.json): - \b\b\\ \b\b| \b\b/ \b\b- \b\b\\ \b\b| \b\b/ \b\b- \b\b\\ \b\b| \b\b/ \b\b- \b\b\\ \b\b| \b\b/ \b\b- \b\b\\ \b\b| \b\b/ \b\b- \b\b\\ \b\b| \b\b/ \b\b- \b\b\\ \b\b| \b\b/ \b\b- \b\b\\ \b\b| \b\b/ \b\b- \b\b\\ \b\b| \b\b/ \b\b- \b\b\\ \b\b| \b\b/ \b\b- \b\b\\ \b\b| \b\b/ \b\b- \b\b\\ \b\b| \b\b/ \b\b- \b\b\\ \b\b| \b\b/ \b\b- \b\b\\ \b\b| \b\b/ \b\b- \b\b\\ \b\b| \b\b/ \b\b- \b\b\\ \b\b| \b\b/ \b\b- \b\b\\ \b\b| \b\b/ \b\b- \b\b\\ \b\b| \b\b/ \b\b- \b\b\\ \b\b| \b\b/ \b\b- \b\b\\ \b\b| \b\b/ \b\b- \b\b\\ \b\b| \b\b/ \b\b- \b\b\\ \b\b| \b\b/ \b\b- \b\b\\ \b\b| \b\b/ \b\b- \b\b\\ \b\b| \b\b/ \b\b- \b\b\\ \b\b| \b\b/ \b\b- \b\b\\ \b\b| \b\b/ \b\b- \b\b\\ \b\b| \b\b/ \b\b- \b\b\\ \b\b| \b\b/ \b\b- \b\b\\ \b\b| \b\b/ \b\b- \b\b\\ \b\b| \b\b/ \b\b- \b\b\\ \b\b| \b\b/ \b\b- \b\b\\ \b\b| \b\b/ \b\b- \b\b\\ \b\b| \b\b/ \b\b- \b\b\\ \b\b| \b\b/ \b\b- \b\b\\ \b\b| \b\b/ \b\b- \b\b\\ \b\b| \b\b/ \b\b- \b\b\\ \b\b| \b\b/ \b\b- \b\b\\ \b\b| \b\b/ \b\b- \b\b\\ \b\b| \b\b/ \b\b- \b\b\\ \b\b| \b\b/ \b\b- \b\b\\ \b\b| \b\b/ \b\b- \b\b\\ \b\b| \b\b/ \b\b- \b\b\\ \b\b| \b\b/ \b\b- \b\b\\ \b\b| \b\b/ \b\b- \b\b\\ \b\b| \b\b/ \b\b- \b\b\\ \b\b| \b\b/ \b\b- \b\b\\ \b\b| \b\b/ \b\b- \b\b\\ \b\b| \b\b/ \b\b- \b\b\\ \b\b| \b\b/ \b\b- \b\b\\ \b\b| \b\b/ \b\b- \b\b\\ \b\b| \b\b/ \b\b- \b\b\\ \b\b| \b\b/ \b\b- \b\b\\ \b\b| \b\bdone\n",
            "Solving environment: - \b\b\\ \b\b| \b\b/ \b\b- \b\b\\ \b\b| \b\b/ \b\b- \b\b\\ \b\b| \b\b/ \b\b- \b\b\\ \b\b| \b\b/ \b\b- \b\b\\ \b\b| \b\b/ \b\b- \b\b\\ \b\b| \b\b/ \b\b- \b\b\\ \b\b| \b\b/ \b\b- \b\b\\ \b\b| \b\b/ \b\b- \b\b\\ \b\b| \b\b/ \b\b- \b\b\\ \b\b| \b\b/ \b\b- \b\b\\ \b\b| \b\b/ \b\b- \b\b\\ \b\b| \b\b/ \b\b- \b\b\\ \b\b| \b\b/ \b\b- \b\bdone\n",
            "\n",
            "## Package Plan ##\n",
            "\n",
            "  environment location: /usr/local\n",
            "\n",
            "  added / updated specs:\n",
            "    - bedtools\n",
            "\n",
            "\n",
            "The following packages will be downloaded:\n",
            "\n",
            "    package                    |            build\n",
            "    ---------------------------|-----------------\n",
            "    bedtools-2.30.0            |       h468198e_3        15.5 MB  bioconda\n",
            "    ------------------------------------------------------------\n",
            "                                           Total:        15.5 MB\n",
            "\n",
            "The following NEW packages will be INSTALLED:\n",
            "\n",
            "  bedtools           bioconda/linux-64::bedtools-2.30.0-h468198e_3 \n",
            "\n",
            "\n",
            "\n",
            "Downloading and Extracting Packages\n",
            "                                                                        \n",
            "Preparing transaction: | \b\bdone\n",
            "Verifying transaction: - \b\b\\ \b\b| \b\b/ \b\b- \b\b\\ \b\b| \b\bdone\n",
            "Executing transaction: - \b\bdone\n"
          ]
        }
      ],
      "source": [
        "!conda install -c bioconda bedtools"
      ]
    },
    {
      "cell_type": "code",
      "execution_count": 57,
      "metadata": {
        "id": "Ftv8JLyaNxlq",
        "colab": {
          "base_uri": "https://localhost:8080/"
        },
        "outputId": "d835b5d3-016a-4286-8015-ddfe4db5e3b3"
      },
      "outputs": [
        {
          "output_type": "stream",
          "name": "stdout",
          "text": [
            "--2022-12-19 21:34:27--  https://ftp.ncbi.nlm.nih.gov/genomes/all/GCF/000/005/845/GCF_000005845.2_ASM584v2/GCF_000005845.2_ASM584v2_genomic.gff.gz\n",
            "Resolving ftp.ncbi.nlm.nih.gov (ftp.ncbi.nlm.nih.gov)... 165.112.9.228, 165.112.9.229, 2607:f220:41f:250::228, ...\n",
            "Connecting to ftp.ncbi.nlm.nih.gov (ftp.ncbi.nlm.nih.gov)|165.112.9.228|:443... connected.\n",
            "HTTP request sent, awaiting response... 200 OK\n",
            "Length: 433547 (423K) [application/x-gzip]\n",
            "Saving to: ‘GCF_000005845.2_ASM584v2_genomic.gff.gz.1’\n",
            "\n",
            "GCF_000005845.2_ASM 100%[===================>] 423.39K   585KB/s    in 0.7s    \n",
            "\n",
            "2022-12-19 21:34:28 (585 KB/s) - ‘GCF_000005845.2_ASM584v2_genomic.gff.gz.1’ saved [433547/433547]\n",
            "\n"
          ]
        }
      ],
      "source": [
        "! wget https://ftp.ncbi.nlm.nih.gov/genomes/all/GCF/000/005/845/GCF_000005845.2_ASM584v2/GCF_000005845.2_ASM584v2_genomic.gff.gz\n",
        "!gunzip GCF_000005845.2_ASM584v2_genomic.gff.gz"
      ]
    },
    {
      "cell_type": "code",
      "source": [
        "!bedtools intersect -a macs2/res_UxuR_1_peaks.narrowPeak -b macs2/res_UxuR_2_peaks.narrowPeak > peaks.bed"
      ],
      "metadata": {
        "id": "iMs9SR9wUMDc"
      },
      "execution_count": 63,
      "outputs": []
    },
    {
      "cell_type": "code",
      "source": [
        "!bedtools intersect -a GCF_000005845.2_ASM584v2_genomic.gff -b peaks.bed  > results.txt"
      ],
      "metadata": {
        "id": "WI4WAi6LSyLc"
      },
      "execution_count": 64,
      "outputs": []
    },
    {
      "cell_type": "code",
      "source": [
        "!bedtools intersect -a GCF_000005845.2_ASM584v2_genomic.gff -b macs2/res_UxuR_1_peaks.narrowPeak  > results.txt"
      ],
      "metadata": {
        "id": "mGzS1cvAUe-b"
      },
      "execution_count": 110,
      "outputs": []
    },
    {
      "cell_type": "code",
      "source": [
        "!head results.txt"
      ],
      "metadata": {
        "colab": {
          "base_uri": "https://localhost:8080/"
        },
        "id": "m5mxA_uGaX-8",
        "outputId": "82d8be3f-4f63-451e-e5a6-86413d1e7db0"
      },
      "execution_count": 65,
      "outputs": [
        {
          "output_type": "stream",
          "name": "stdout",
          "text": [
            "NC_000913.3\tRefSeq\tregion\t313286\t313385\t.\t+\t.\tID=NC_000913.3:1..4641652;Dbxref=taxon:511145;Is_circular=true;Name=ANONYMOUS;gbkey=Src;genome=chromosome;mol_type=genomic DNA;strain=K-12;substrain=MG1655\n",
            "NC_000913.3\tRefSeq\tregion\t571027\t571190\t.\t+\t.\tID=NC_000913.3:1..4641652;Dbxref=taxon:511145;Is_circular=true;Name=ANONYMOUS;gbkey=Src;genome=chromosome;mol_type=genomic DNA;strain=K-12;substrain=MG1655\n",
            "NC_000913.3\tRefSeq\tregion\t579637\t579862\t.\t+\t.\tID=NC_000913.3:1..4641652;Dbxref=taxon:511145;Is_circular=true;Name=ANONYMOUS;gbkey=Src;genome=chromosome;mol_type=genomic DNA;strain=K-12;substrain=MG1655\n",
            "NC_000913.3\tRefSeq\tregion\t1215825\t1215950\t.\t+\t.\tID=NC_000913.3:1..4641652;Dbxref=taxon:511145;Is_circular=true;Name=ANONYMOUS;gbkey=Src;genome=chromosome;mol_type=genomic DNA;strain=K-12;substrain=MG1655\n",
            "NC_000913.3\tRefSeq\tregion\t1699696\t1699798\t.\t+\t.\tID=NC_000913.3:1..4641652;Dbxref=taxon:511145;Is_circular=true;Name=ANONYMOUS;gbkey=Src;genome=chromosome;mol_type=genomic DNA;strain=K-12;substrain=MG1655\n",
            "NC_000913.3\tRefSeq\tregion\t2102908\t2103041\t.\t+\t.\tID=NC_000913.3:1..4641652;Dbxref=taxon:511145;Is_circular=true;Name=ANONYMOUS;gbkey=Src;genome=chromosome;mol_type=genomic DNA;strain=K-12;substrain=MG1655\n",
            "NC_000913.3\tRefSeq\tregion\t2105464\t2105598\t.\t+\t.\tID=NC_000913.3:1..4641652;Dbxref=taxon:511145;Is_circular=true;Name=ANONYMOUS;gbkey=Src;genome=chromosome;mol_type=genomic DNA;strain=K-12;substrain=MG1655\n",
            "NC_000913.3\tRefSeq\tregion\t2107545\t2107593\t.\t+\t.\tID=NC_000913.3:1..4641652;Dbxref=taxon:511145;Is_circular=true;Name=ANONYMOUS;gbkey=Src;genome=chromosome;mol_type=genomic DNA;strain=K-12;substrain=MG1655\n",
            "NC_000913.3\tRefSeq\tregion\t2990353\t2990399\t.\t+\t.\tID=NC_000913.3:1..4641652;Dbxref=taxon:511145;Is_circular=true;Name=ANONYMOUS;gbkey=Src;genome=chromosome;mol_type=genomic DNA;strain=K-12;substrain=MG1655\n",
            "NC_000913.3\tRefSeq\tregion\t2990517\t2990596\t.\t+\t.\tID=NC_000913.3:1..4641652;Dbxref=taxon:511145;Is_circular=true;Name=ANONYMOUS;gbkey=Src;genome=chromosome;mol_type=genomic DNA;strain=K-12;substrain=MG1655\n"
          ]
        }
      ]
    },
    {
      "cell_type": "code",
      "execution_count": 111,
      "metadata": {
        "id": "YH-gfUCmEuVD",
        "colab": {
          "base_uri": "https://localhost:8080/"
        },
        "outputId": "77140e2a-d31b-4f75-9382-8ab730df4ee3"
      },
      "outputs": [
        {
          "output_type": "stream",
          "name": "stdout",
          "text": [
            "['Name=ykgR', 'Name=insF3', 'Name=ybcL', 'Name=ybcV', 'Name=ybcW', 'Name=ompT', 'Name=pgaA', 'Name=ycdU', 'Name=pyrC', 'Name=lolD', 'Name=lolE', 'Name=ycfK', 'Name=bluF', 'Name=ycgZ', 'Name=ymgA', 'Name=pdeG', 'Name=minC', 'Name=ychE', 'Name=clsA', 'Name=yciC', 'Name=mppA', 'Name=insH4', 'Name=ogt', 'Name=uspF', 'Name=ydbK', 'Name=ydbK', 'Name=azoR', 'Name=yddH', 'Name=nhoA', 'Name=narZ', 'Name=ddpB', 'Name=dosP', 'Name=yddB', 'Name=yddA', 'Name=ydeP', 'Name=lsrR', 'Name=yneJ', 'Name=yneK', 'Name=ydeA', 'Name=ydeA', 'Name=marR', 'Name=marA', 'Name=ydeJ', 'Name=dcp', 'Name=ydfI', 'Name=ydfJ', 'Name=stfQ', 'Name=nohA', 'Name=ynfO', 'Name=essQ', 'Name=cspF', 'Name=ydfT', 'Name=ydfW', 'Name=ydfX', 'Name=rspB', 'Name=ynfA', 'Name=ynfL', 'Name=ynfM', 'Name=ydgD', 'Name=tqsA', 'Name=pntA', 'Name=uidA', 'Name=uidR', 'Name=hdhA', 'Name=malX', 'Name=punC', 'Name=cfa', 'Name=ribC', 'Name=mdtK', 'Name=mdtK', 'Name=ydhV', 'Name=aroD', 'Name=ydiF', 'Name=thrS', 'Name=yniD', 'Name=ydiY', 'Name=chbA', 'Name=topB', 'Name=znuB', 'Name=vsr', 'Name=dcm', 'Name=cbl', 'Name=nac', 'Name=cobU', 'Name=gnd', 'Name=insH7', 'Name=wbbK', 'Name=wbbJ', 'Name=wbbI', 'Name=wbbI', 'Name=wbbH', 'Name=wbbH', 'Name=glf', 'Name=rfbA', 'Name=evgA', 'Name=yfdV', 'Name=rrlG', 'Name=rrlG', 'Name=rrsG', 'Name=ileY', 'Name=yqeI', 'Name=yqeJ', 'Name=yqeL', 'Name=yqeK', 'Name=ygeG', 'Name=ygeG', 'Name=ygeH', 'Name=ygeI', 'Name=rrlD', 'Name=waaY', 'Name=waaJ', 'Name=fimE']\n"
          ]
        }
      ],
      "source": [
        "import pandas as pd\n",
        "\n",
        "df = pd.read_csv('results.txt', sep='\\t', header=None)\n",
        "df = df.loc[df[2] == 'gene']\n",
        "print(list(df[8].str.split(';', expand = True)[2]))"
      ]
    }
  ],
  "metadata": {
    "colab": {
      "provenance": [],
      "mount_file_id": "1vqBbMeGjPbnnlvnkR-Lb4lZbQMj5NRqR",
      "authorship_tag": "ABX9TyNN2Jsr2xuw4Tj+RQ2ZYaQ3",
      "include_colab_link": true
    },
    "kernelspec": {
      "display_name": "Python 3",
      "name": "python3"
    },
    "language_info": {
      "name": "python"
    }
  },
  "nbformat": 4,
  "nbformat_minor": 0
}